{
 "cells": [
  {
   "cell_type": "code",
   "execution_count": 3,
   "id": "8d5f02f1",
   "metadata": {},
   "outputs": [],
   "source": [
    "def csMPa():\n",
    "\n",
    "    my_dict = {\"cement\" :cement,\n",
    "    \"slag\":slag,\n",
    "    \"flyash\": flyash,\n",
    "    \"water\": water ,\n",
    "    \"superplasticizer\": superplasticizer,\n",
    "    \"coarseaggregate\": coarseaggregate,\n",
    "    \"fineaggregate\": fineaggregate,\n",
    "    \"age\":age}\n",
    "\n",
    "    \n",
    "\n",
    "    df_sample = pd.DataFrame.from_dict([my_dict])\n",
    "    return df_sample"
   ]
  },
  {
   "cell_type": "code",
   "execution_count": 14,
   "id": "96825acd",
   "metadata": {},
   "outputs": [],
   "source": [
    "import pandas as pd\n",
    "import pickle "
   ]
  },
  {
   "cell_type": "code",
   "execution_count": 15,
   "id": "d397c341",
   "metadata": {},
   "outputs": [],
   "source": [
    "cement= 120\n",
    "slag = 45\n",
    "flyash= 4\n",
    "water= 155\n",
    "superplasticizer = 0.5 \n",
    "coarseaggregate = 650\n",
    "fineaggregate = 345\n",
    "age = 34\n"
   ]
  },
  {
   "cell_type": "code",
   "execution_count": 17,
   "id": "0aa1c772",
   "metadata": {
    "run_control": {
     "marked": true
    }
   },
   "outputs": [
    {
     "name": "stdout",
     "output_type": "stream",
     "text": [
      "[29.2232]\n"
     ]
    },
    {
     "name": "stderr",
     "output_type": "stream",
     "text": [
      "C:\\Users\\rajes\\AppData\\Roaming\\Python\\Python310\\site-packages\\sklearn\\base.py:402: UserWarning: X has feature names, but RandomForestRegressor was fitted without feature names\n",
      "  warnings.warn(\n"
     ]
    }
   ],
   "source": [
    "dfc = csMPa()\n",
    "model = pickle.load(open(\"model.pkl\", \"rb\"))\n",
    "#st.markdown('By-Rajesh Hugar')\n",
    "\n",
    "#if st.sidebar.button (\"Submit\"):\n",
    "\n",
    "\n",
    "result = (model.predict(dfc))\n",
    "   # st.success(f\"Compressive Strength Prediction of the Concrete is {result} MPa\")\n",
    "print(result)    "
   ]
  },
  {
   "cell_type": "code",
   "execution_count": null,
   "id": "6fe3e488",
   "metadata": {},
   "outputs": [],
   "source": []
  },
  {
   "cell_type": "code",
   "execution_count": null,
   "id": "7b4b1352",
   "metadata": {},
   "outputs": [],
   "source": [
    "dfc = csMPa()\n",
    "model = pickle.load(open(\"model.pkl\", \"rb\"))\n",
    "st.markdown('By-Rajesh Hugar')\n",
    "\n",
    "if st.sidebar.button (\"Submit\"):\n",
    "\n",
    "\n",
    "    result = (model.predict(dfc))\n",
    "    st.success(f\"Compressive Strength Prediction of the Concrete is {result} MPa\")\n",
    "    "
   ]
  },
  {
   "cell_type": "code",
   "execution_count": null,
   "id": "2099ad7e",
   "metadata": {},
   "outputs": [],
   "source": []
  }
 ],
 "metadata": {
  "hide_input": false,
  "kernelspec": {
   "display_name": "Neuron",
   "language": "python",
   "name": "neuron"
  },
  "language_info": {
   "codemirror_mode": {
    "name": "ipython",
    "version": 3
   },
   "file_extension": ".py",
   "mimetype": "text/x-python",
   "name": "python",
   "nbconvert_exporter": "python",
   "pygments_lexer": "ipython3",
   "version": "3.10.4"
  },
  "nbTranslate": {
   "displayLangs": [
    "*"
   ],
   "hotkey": "alt-t",
   "langInMainMenu": true,
   "sourceLang": "en",
   "targetLang": "fr",
   "useGoogleTranslate": true
  },
  "toc": {
   "base_numbering": 1,
   "nav_menu": {},
   "number_sections": true,
   "sideBar": true,
   "skip_h1_title": false,
   "title_cell": "Table of Contents",
   "title_sidebar": "Contents",
   "toc_cell": false,
   "toc_position": {},
   "toc_section_display": true,
   "toc_window_display": false
  }
 },
 "nbformat": 4,
 "nbformat_minor": 5
}
